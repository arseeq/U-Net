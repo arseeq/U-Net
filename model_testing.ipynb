{
 "cells": [
  {
   "cell_type": "code",
   "execution_count": 2,
   "metadata": {},
   "outputs": [
    {
     "name": "stderr",
     "output_type": "stream",
     "text": [
      "Using TensorFlow backend.\n"
     ]
    }
   ],
   "source": [
    "from model import Unet"
   ]
  },
  {
   "cell_type": "code",
   "execution_count": 3,
   "metadata": {},
   "outputs": [
    {
     "name": "stdout",
     "output_type": "stream",
     "text": [
      "Initial U-Net model\n",
      "WARNING:tensorflow:From /Users/charlychiu/anaconda3/lib/python3.7/site-packages/tensorflow/python/framework/op_def_library.py:263: colocate_with (from tensorflow.python.framework.ops) is deprecated and will be removed in a future version.\n",
      "Instructions for updating:\n",
      "Colocations handled automatically by placer.\n"
     ]
    }
   ],
   "source": [
    "unet = Unet()\n",
    "model = unet.initial_model()"
   ]
  },
  {
   "cell_type": "code",
   "execution_count": 4,
   "metadata": {},
   "outputs": [
    {
     "name": "stdout",
     "output_type": "stream",
     "text": [
      "__________________________________________________________________________________________________\n",
      "Layer (type)                    Output Shape         Param #     Connected to                     \n",
      "==================================================================================================\n",
      "input_1 (InputLayer)            (None, 572, 572, 1)  0                                            \n",
      "__________________________________________________________________________________________________\n",
      "conv1_1 (Conv2D)                (None, 570, 570, 64) 640         input_1[0][0]                    \n",
      "__________________________________________________________________________________________________\n",
      "conv1_2 (Conv2D)                (None, 568, 568, 64) 36928       conv1_1[0][0]                    \n",
      "__________________________________________________________________________________________________\n",
      "maxpooling_1 (MaxPooling2D)     (None, 284, 284, 64) 0           conv1_2[0][0]                    \n",
      "__________________________________________________________________________________________________\n",
      "conv2_1 (Conv2D)                (None, 282, 282, 128 73856       maxpooling_1[0][0]               \n",
      "__________________________________________________________________________________________________\n",
      "conv2_2 (Conv2D)                (None, 280, 280, 128 147584      conv2_1[0][0]                    \n",
      "__________________________________________________________________________________________________\n",
      "maxpooling_2 (MaxPooling2D)     (None, 140, 140, 128 0           conv2_2[0][0]                    \n",
      "__________________________________________________________________________________________________\n",
      "conv3_1 (Conv2D)                (None, 138, 138, 256 295168      maxpooling_2[0][0]               \n",
      "__________________________________________________________________________________________________\n",
      "conv3_2 (Conv2D)                (None, 136, 136, 256 590080      conv3_1[0][0]                    \n",
      "__________________________________________________________________________________________________\n",
      "maxpooling_3 (MaxPooling2D)     (None, 68, 68, 256)  0           conv3_2[0][0]                    \n",
      "__________________________________________________________________________________________________\n",
      "conv4_1 (Conv2D)                (None, 66, 66, 512)  1180160     maxpooling_3[0][0]               \n",
      "__________________________________________________________________________________________________\n",
      "conv4_2 (Conv2D)                (None, 64, 64, 512)  2359808     conv4_1[0][0]                    \n",
      "__________________________________________________________________________________________________\n",
      "maxpooling_4 (MaxPooling2D)     (None, 32, 32, 512)  0           conv4_2[0][0]                    \n",
      "__________________________________________________________________________________________________\n",
      "conv5_1 (Conv2D)                (None, 30, 30, 1024) 4719616     maxpooling_4[0][0]               \n",
      "__________________________________________________________________________________________________\n",
      "conv5_2 (Conv2D)                (None, 28, 28, 1024) 9438208     conv5_1[0][0]                    \n",
      "__________________________________________________________________________________________________\n",
      "upsampling1 (Conv2DTranspose)   (None, 56, 56, 512)  2097664     conv5_2[0][0]                    \n",
      "__________________________________________________________________________________________________\n",
      "cropped_conv4_2 (Cropping2D)    (None, 56, 56, 512)  0           conv4_2[0][0]                    \n",
      "__________________________________________________________________________________________________\n",
      "skip_connection1 (Concatenate)  (None, 56, 56, 1024) 0           upsampling1[0][0]                \n",
      "                                                                 cropped_conv4_2[0][0]            \n",
      "__________________________________________________________________________________________________\n",
      "conv6_1 (Conv2D)                (None, 54, 54, 512)  4719104     skip_connection1[0][0]           \n",
      "__________________________________________________________________________________________________\n",
      "conv6_2 (Conv2D)                (None, 52, 52, 512)  2359808     conv6_1[0][0]                    \n",
      "__________________________________________________________________________________________________\n",
      "upsampling2 (Conv2DTranspose)   (None, 104, 104, 256 524544      conv6_2[0][0]                    \n",
      "__________________________________________________________________________________________________\n",
      "cropped_conv3_2 (Cropping2D)    (None, 104, 104, 256 0           conv3_2[0][0]                    \n",
      "__________________________________________________________________________________________________\n",
      "skip_connection2 (Concatenate)  (None, 104, 104, 512 0           upsampling2[0][0]                \n",
      "                                                                 cropped_conv3_2[0][0]            \n",
      "__________________________________________________________________________________________________\n",
      "conv7_1 (Conv2D)                (None, 102, 102, 256 1179904     skip_connection2[0][0]           \n",
      "__________________________________________________________________________________________________\n",
      "conv7_2 (Conv2D)                (None, 100, 100, 256 590080      conv7_1[0][0]                    \n",
      "__________________________________________________________________________________________________\n",
      "upsampling3 (Conv2DTranspose)   (None, 200, 200, 128 131200      conv7_2[0][0]                    \n",
      "__________________________________________________________________________________________________\n",
      "cropped_conv2_2 (Cropping2D)    (None, 200, 200, 128 0           conv2_2[0][0]                    \n",
      "__________________________________________________________________________________________________\n",
      "skip_connection3 (Concatenate)  (None, 200, 200, 256 0           upsampling3[0][0]                \n",
      "                                                                 cropped_conv2_2[0][0]            \n",
      "__________________________________________________________________________________________________\n",
      "conv8_1 (Conv2D)                (None, 198, 198, 128 295040      skip_connection3[0][0]           \n",
      "__________________________________________________________________________________________________\n",
      "conv8_2 (Conv2D)                (None, 196, 196, 128 147584      conv8_1[0][0]                    \n",
      "__________________________________________________________________________________________________\n",
      "upsampling4 (Conv2DTranspose)   (None, 392, 392, 64) 32832       conv8_2[0][0]                    \n",
      "__________________________________________________________________________________________________\n",
      "cropped_conv1_2 (Cropping2D)    (None, 392, 392, 64) 0           conv1_2[0][0]                    \n",
      "__________________________________________________________________________________________________\n",
      "skip_connection4 (Concatenate)  (None, 392, 392, 128 0           upsampling4[0][0]                \n",
      "                                                                 cropped_conv1_2[0][0]            \n",
      "__________________________________________________________________________________________________\n",
      "conv9_1 (Conv2D)                (None, 390, 390, 64) 73792       skip_connection4[0][0]           \n",
      "__________________________________________________________________________________________________\n",
      "conv9_2 (Conv2D)                (None, 388, 388, 64) 36928       conv9_1[0][0]                    \n",
      "__________________________________________________________________________________________________\n",
      "conv10 (Conv2D)                 (None, 388, 388, 1)  65          conv9_2[0][0]                    \n",
      "==================================================================================================\n",
      "Total params: 31,030,593\n",
      "Trainable params: 31,030,593\n",
      "Non-trainable params: 0\n",
      "__________________________________________________________________________________________________\n"
     ]
    }
   ],
   "source": [
    "model .summary()"
   ]
  },
  {
   "cell_type": "code",
   "execution_count": null,
   "metadata": {},
   "outputs": [],
   "source": [
    "image_path = \"data/data1/aug-patch/\"\n",
    "mask_path = \"data/data1/aug-patch/\"\n",
    "image_prefix = \"image\"\n",
    "mask_prefix = \"mask\"\n",
    "image_as_gray = True\n",
    "mask_as_gray = True\n",
    "image_name_arr = glob.glob(os.path.join(image_path,\"*%s*.png\"%image_prefix))\n",
    "image_arr = []\n",
    "mask_arr = []\n",
    "for index,item in enumerate(image_name_arr):\n",
    "    img = io.imread(item,as_gray = image_as_gray)\n",
    "    img = np.reshape(img,img.shape + (1,)) if image_as_gray else img\n",
    "    mask = io.imread(item.replace(image_path,mask_path).replace(image_prefix,mask_prefix),as_gray = mask_as_gray)\n",
    "    mask = np.reshape(mask,mask.shape + (1,)) if mask_as_gray else mask\n",
    "#     img,mask = adjustData(img,mask,flag_multi_class,num_class)\n",
    "    image_arr.append(img)\n",
    "    mask_arr.append(mask)\n",
    "image_arr = np.array(image_arr)\n",
    "mask_arr = np.array(mask_arr)"
   ]
  },
  {
   "cell_type": "code",
   "execution_count": null,
   "metadata": {},
   "outputs": [],
   "source": [
    "np.save('image_array_model', image_arr)"
   ]
  },
  {
   "cell_type": "code",
   "execution_count": null,
   "metadata": {},
   "outputs": [],
   "source": [
    "tmp_mask = list()\n",
    "for mask in mask_arr:\n",
    "    tmp_mask.append(mask[92:480, 92:480])\n",
    "tmp_mask = np.array(tmp_mask)\n",
    "tmp_mask.shape"
   ]
  },
  {
   "cell_type": "code",
   "execution_count": null,
   "metadata": {},
   "outputs": [],
   "source": [
    "np.save('mask_array_model', tmp_mask)"
   ]
  },
  {
   "cell_type": "code",
   "execution_count": 5,
   "metadata": {},
   "outputs": [],
   "source": [
    "import numpy as np\n",
    "image_arr = np.load('image_array_model.npy')\n",
    "tmp_mask = np.load('mask_array_model.npy')"
   ]
  },
  {
   "cell_type": "code",
   "execution_count": 6,
   "metadata": {},
   "outputs": [],
   "source": [
    "import keras.backend as K\n",
    "def iou_loss_score(true,pred):  #this can be used as a loss if you make it negative\n",
    "    intersection = true * pred\n",
    "    notTrue = 1 - true\n",
    "    union = true + (notTrue * pred)\n",
    "    return (K.sum(intersection, axis=-1) + K.epsilon()) / (K.sum(union, axis=-1) + K.epsilon())"
   ]
  },
  {
   "cell_type": "code",
   "execution_count": 7,
   "metadata": {},
   "outputs": [],
   "source": [
    "model.compile(optimizer = 'Adam', loss = 'binary_crossentropy', metrics = [iou_loss_score])"
   ]
  },
  {
   "cell_type": "code",
   "execution_count": null,
   "metadata": {},
   "outputs": [
    {
     "name": "stdout",
     "output_type": "stream",
     "text": [
      "WARNING:tensorflow:From /Users/charlychiu/anaconda3/lib/python3.7/site-packages/tensorflow/python/ops/math_ops.py:3066: to_int32 (from tensorflow.python.ops.math_ops) is deprecated and will be removed in a future version.\n",
      "Instructions for updating:\n",
      "Use tf.cast instead.\n",
      "Epoch 1/10\n"
     ]
    }
   ],
   "source": [
    "results = model.fit(image_arr, tmp_mask, epochs=10, verbose=1)"
   ]
  },
  {
   "cell_type": "code",
   "execution_count": null,
   "metadata": {},
   "outputs": [],
   "source": []
  }
 ],
 "metadata": {
  "kernelspec": {
   "display_name": "Python 3",
   "language": "python",
   "name": "python3"
  },
  "language_info": {
   "codemirror_mode": {
    "name": "ipython",
    "version": 3
   },
   "file_extension": ".py",
   "mimetype": "text/x-python",
   "name": "python",
   "nbconvert_exporter": "python",
   "pygments_lexer": "ipython3",
   "version": "3.7.3"
  }
 },
 "nbformat": 4,
 "nbformat_minor": 2
}
